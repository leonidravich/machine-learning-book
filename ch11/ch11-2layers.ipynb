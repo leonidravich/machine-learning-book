{
 "cells": [
  {
   "cell_type": "markdown",
   "metadata": {
    "tags": []
   },
   "source": [
    "# Machine Learning with PyTorch and Scikit-Learn  \n",
    "# -- Code Examples"
   ]
  },
  {
   "cell_type": "markdown",
   "metadata": {},
   "source": [
    "## Package version checks"
   ]
  },
  {
   "cell_type": "markdown",
   "metadata": {},
   "source": [
    "Add folder to path in order to load from the check_packages.py script:"
   ]
  },
  {
   "cell_type": "code",
   "execution_count": 1,
   "metadata": {},
   "outputs": [],
   "source": [
    "import sys\n",
    "sys.path.insert(0, '..')"
   ]
  },
  {
   "cell_type": "markdown",
   "metadata": {},
   "source": [
    "Check recommended package versions:"
   ]
  },
  {
   "cell_type": "code",
   "execution_count": 2,
   "metadata": {},
   "outputs": [
    {
     "name": "stdout",
     "output_type": "stream",
     "text": [
      "[OK] Your Python version is 3.8.10 (default, Mar 13 2023, 10:26:41) \n",
      "[GCC 9.4.0]\n"
     ]
    },
    {
     "name": "stderr",
     "output_type": "stream",
     "text": [
      "2023-07-19 21:58:17.878807: I tensorflow/core/platform/cpu_feature_guard.cc:193] This TensorFlow binary is optimized with oneAPI Deep Neural Network Library (oneDNN) to use the following CPU instructions in performance-critical operations:  AVX2 FMA\n",
      "To enable them in other operations, rebuild TensorFlow with the appropriate compiler flags.\n"
     ]
    },
    {
     "name": "stdout",
     "output_type": "stream",
     "text": [
      "[OK] numpy 1.22.4\n",
      "[OK] matplotlib 3.4.3\n",
      "[OK] sklearn 1.0\n",
      "[OK] tensorflow 2.10.0\n"
     ]
    }
   ],
   "source": [
    "from python_environment_check import check_packages\n",
    "\n",
    "\n",
    "d = {\n",
    "    'numpy': '1.21.2',\n",
    "    'matplotlib': '3.4.3',\n",
    "    'sklearn': '1.0',\n",
    "    'tensorflow': '2.10.0',\n",
    "}\n",
    "check_packages(d)"
   ]
  },
  {
   "cell_type": "markdown",
   "metadata": {},
   "source": [
    "### Overview"
   ]
  },
  {
   "cell_type": "markdown",
   "metadata": {},
   "source": [
    "- [Modeling complex functions with artificial neural networks](#Modeling-complex-functions-with-artificial-neural-networks)"
   ]
  },
  {
   "cell_type": "code",
   "execution_count": 3,
   "metadata": {},
   "outputs": [],
   "source": [
    "from IPython.display import Image\n",
    "%matplotlib inline"
   ]
  },
  {
   "cell_type": "code",
   "execution_count": 4,
   "metadata": {},
   "outputs": [],
   "source": [
    "random_seed=42\n",
    "num_epochs = 20\n",
    "minibatch_size = 100\n",
    "num_hidden = 500"
   ]
  },
  {
   "cell_type": "markdown",
   "metadata": {},
   "source": [
    "## Obtaining and preparing the MNIST dataset"
   ]
  },
  {
   "cell_type": "code",
   "execution_count": 5,
   "metadata": {},
   "outputs": [
    {
     "name": "stdout",
     "output_type": "stream",
     "text": [
      "(70000, 784)\n",
      "(70000,)\n"
     ]
    }
   ],
   "source": [
    "from sklearn.datasets import fetch_openml\n",
    "\n",
    "\n",
    "X, y = fetch_openml('mnist_784', version=1, return_X_y=True)\n",
    "X = X.values\n",
    "y = y.astype(int).values\n",
    "\n",
    "print(X.shape)\n",
    "print(y.shape)"
   ]
  },
  {
   "cell_type": "markdown",
   "metadata": {},
   "source": [
    "Normalize to [-1, 1] range:"
   ]
  },
  {
   "cell_type": "code",
   "execution_count": 6,
   "metadata": {},
   "outputs": [],
   "source": [
    "X = ((X / 255.) - .5) * 2"
   ]
  },
  {
   "cell_type": "markdown",
   "metadata": {},
   "source": [
    "Split into training, validation, and test set:"
   ]
  },
  {
   "cell_type": "code",
   "execution_count": 7,
   "metadata": {},
   "outputs": [],
   "source": [
    "from sklearn.model_selection import train_test_split\n",
    "\n",
    "\n",
    "# Split the data into train, validation, and test sets\n",
    "X_train, X_test, y_train, y_test = train_test_split(\n",
    "    X, y, test_size=0.3, random_state=random_seed, stratify=y)\n",
    "\n",
    "# Further split the training set into train and validation sets\n",
    "X_train, X_valid, y_train, y_valid = train_test_split(\n",
    "    X_train, y_train, test_size=0.2, random_state=random_seed, stratify=y_train)\n",
    "\n",
    "\n",
    "# optional to free up some memory by deleting non-used arrays:\n",
    "del X, y"
   ]
  },
  {
   "cell_type": "code",
   "execution_count": 8,
   "metadata": {},
   "outputs": [],
   "source": [
    "import numpy as np"
   ]
  },
  {
   "cell_type": "code",
   "execution_count": 9,
   "metadata": {},
   "outputs": [],
   "source": [
    "def sigmoid(z):                                        \n",
    "    return 1. / (1. + np.exp(-z))\n",
    "    \n",
    "def int_to_onehot(y, num_labels):\n",
    "\n",
    "    ary = np.zeros((y.shape[0], num_labels))\n",
    "    for i, val in enumerate(y):\n",
    "        ary[i, val] = 1\n",
    "\n",
    "    return ary"
   ]
  },
  {
   "cell_type": "code",
   "execution_count": 10,
   "metadata": {},
   "outputs": [],
   "source": [
    "def minibatch_generator(X, y, minibatch_size):\n",
    "    indices = np.arange(X.shape[0])\n",
    "    np.random.shuffle(indices)\n",
    "\n",
    "    for start_idx in range(0, indices.shape[0] - minibatch_size \n",
    "                           + 1, minibatch_size):\n",
    "        batch_idx = indices[start_idx:start_idx + minibatch_size]\n",
    "        \n",
    "        yield X[batch_idx], y[batch_idx]"
   ]
  },
  {
   "cell_type": "code",
   "execution_count": 11,
   "metadata": {},
   "outputs": [],
   "source": [
    "def mse_loss(targets, probas, num_labels=10):\n",
    "    onehot_targets = int_to_onehot(targets, num_labels=num_labels)\n",
    "    return np.mean((onehot_targets - probas)**2)\n",
    "\n",
    "\n",
    "def accuracy(targets, predicted_labels):\n",
    "    return np.mean(predicted_labels == targets) "
   ]
  },
  {
   "cell_type": "code",
   "execution_count": 12,
   "metadata": {},
   "outputs": [],
   "source": [
    "## Implementing a 1-layer Model (Vanial)"
   ]
  },
  {
   "cell_type": "code",
   "execution_count": 13,
   "metadata": {},
   "outputs": [],
   "source": [
    "class NeuralNetMLP:\n",
    "\n",
    "    def __init__(self, num_features, num_hidden, num_classes, random_seed=random_seed):\n",
    "        super().__init__()\n",
    "        \n",
    "        self.num_classes = num_classes\n",
    "        \n",
    "        # hidden\n",
    "        rng = np.random.RandomState(random_seed)\n",
    "        \n",
    "        self.weight_h = rng.normal(\n",
    "            loc=0.0, scale=0.1, size=(num_hidden, num_features))\n",
    "        self.bias_h = np.zeros(num_hidden)\n",
    "        \n",
    "        # output\n",
    "        self.weight_out = rng.normal(\n",
    "            loc=0.0, scale=0.1, size=(num_classes, num_hidden))\n",
    "        self.bias_out = np.zeros(num_classes)\n",
    "        \n",
    "    def forward(self, x):\n",
    "        # Hidden layer\n",
    "        # input dim: [n_examples, n_features] dot [n_hidden, n_features].T\n",
    "        # output dim: [n_examples, n_hidden]\n",
    "        z_h = np.dot(x, self.weight_h.T) + self.bias_h\n",
    "        a_h = sigmoid(z_h)\n",
    "\n",
    "        # Output layer\n",
    "        # input dim: [n_examples, n_hidden] dot [n_classes, n_hidden].T\n",
    "        # output dim: [n_examples, n_classes]\n",
    "        z_out = np.dot(a_h, self.weight_out.T) + self.bias_out\n",
    "        a_out = sigmoid(z_out)\n",
    "        return a_h, a_out\n",
    "\n",
    "    def backward(self, x, a_h, a_out, y):  \n",
    "    \n",
    "        #########################\n",
    "        ### Output layer weights\n",
    "        #########################\n",
    "        \n",
    "        # onehot encoding\n",
    "        y_onehot = int_to_onehot(y, self.num_classes)\n",
    "\n",
    "        # Part 1: dLoss/dOutWeights\n",
    "        ## = dLoss/dOutAct * dOutAct/dOutNet * dOutNet/dOutWeight\n",
    "        ## where DeltaOut = dLoss/dOutAct * dOutAct/dOutNet\n",
    "        ## for convenient re-use\n",
    "        \n",
    "        # input/output dim: [n_examples, n_classes]\n",
    "        d_loss__d_a_out = 2.*(a_out - y_onehot) / y.shape[0]\n",
    "\n",
    "        # input/output dim: [n_examples, n_classes]\n",
    "        d_a_out__d_z_out = a_out * (1. - a_out) # sigmoid derivative\n",
    "\n",
    "        # output dim: [n_examples, n_classes]\n",
    "        delta_out = d_loss__d_a_out * d_a_out__d_z_out # \"delta (rule) placeholder\"\n",
    "\n",
    "        # gradient for output weights\n",
    "        \n",
    "        # [n_examples, n_hidden]\n",
    "        d_z_out__dw_out = a_h\n",
    "        \n",
    "        # input dim: [n_classes, n_examples] dot [n_examples, n_hidden]\n",
    "        # output dim: [n_classes, n_hidden]\n",
    "        d_loss__dw_out = np.dot(delta_out.T, d_z_out__dw_out)\n",
    "        d_loss__db_out = np.sum(delta_out, axis=0)\n",
    "        \n",
    "\n",
    "        #################################        \n",
    "        # Part 2: dLoss/dHiddenWeights\n",
    "        ## = DeltaOut * dOutNet/dHiddenAct * dHiddenAct/dHiddenNet * dHiddenNet/dWeight\n",
    "        \n",
    "        # [n_classes, n_hidden]\n",
    "        d_z_out__a_h = self.weight_out\n",
    "        \n",
    "        # output dim: [n_examples, n_hidden]\n",
    "        d_loss__a_h = np.dot(delta_out, d_z_out__a_h)\n",
    "        \n",
    "        # [n_examples, n_hidden]\n",
    "        d_a_h__d_z_h = a_h * (1. - a_h) # sigmoid derivative\n",
    "        \n",
    "        # [n_examples, n_features]\n",
    "        d_z_h__d_w_h = x\n",
    "        \n",
    "        # output dim: [n_hidden, n_features]\n",
    "        d_loss__d_w_h = np.dot((d_loss__a_h * d_a_h__d_z_h).T, d_z_h__d_w_h)\n",
    "        d_loss__d_b_h = np.sum((d_loss__a_h * d_a_h__d_z_h), axis=0)\n",
    "\n",
    "        return (d_loss__dw_out, d_loss__db_out, \n",
    "                d_loss__d_w_h, d_loss__d_b_h)"
   ]
  },
  {
   "cell_type": "code",
   "execution_count": 14,
   "metadata": {},
   "outputs": [],
   "source": [
    "model = NeuralNetMLP(num_features=28*28,\n",
    "                     num_hidden=num_hidden,\n",
    "                     num_classes=10)"
   ]
  },
  {
   "cell_type": "code",
   "execution_count": 15,
   "metadata": {},
   "outputs": [],
   "source": [
    "def compute_mse_and_acc(nnet, X, y, num_labels=10, minibatch_size=100):\n",
    "    mse, correct_pred, num_examples = 0., 0, 0\n",
    "    minibatch_gen = minibatch_generator(X, y, minibatch_size)\n",
    "        \n",
    "    for i, (features, targets) in enumerate(minibatch_gen):\n",
    "\n",
    "        _, probas = nnet.forward(features)\n",
    "        predicted_labels = np.argmax(probas, axis=1)\n",
    "        \n",
    "        onehot_targets = int_to_onehot(targets, num_labels=num_labels)\n",
    "        loss = np.mean((onehot_targets - probas)**2)\n",
    "        correct_pred += (predicted_labels == targets).sum()\n",
    "        \n",
    "        num_examples += targets.shape[0]\n",
    "        mse += loss\n",
    "\n",
    "    mse = mse/i\n",
    "    acc = correct_pred/num_examples\n",
    "    return mse, acc"
   ]
  },
  {
   "cell_type": "code",
   "execution_count": 16,
   "metadata": {},
   "outputs": [],
   "source": [
    "def train(model, X_train, y_train, X_valid, y_valid, num_epochs,\n",
    "          learning_rate=0.1):\n",
    "    \n",
    "    epoch_loss = []\n",
    "    epoch_train_acc = []\n",
    "    epoch_valid_acc = []\n",
    "    \n",
    "    for e in range(num_epochs):\n",
    "\n",
    "        # iterate over minibatches\n",
    "        minibatch_gen = minibatch_generator(\n",
    "            X_train, y_train, minibatch_size)\n",
    "\n",
    "        for X_train_mini, y_train_mini in minibatch_gen:\n",
    "            \n",
    "            #### Compute outputs ####\n",
    "            a_h, a_out = model.forward(X_train_mini)\n",
    "\n",
    "            #### Compute gradients ####\n",
    "            d_loss__d_w_out, d_loss__d_b_out, d_loss__d_w_h, d_loss__d_b_h = \\\n",
    "                model.backward(X_train_mini, a_h, a_out, y_train_mini)\n",
    "\n",
    "            #### Update weights ####\n",
    "            model.weight_h -= learning_rate * d_loss__d_w_h\n",
    "            model.bias_h -= learning_rate * d_loss__d_b_h\n",
    "            model.weight_out -= learning_rate * d_loss__d_w_out\n",
    "            model.bias_out -= learning_rate * d_loss__d_b_out\n",
    "        \n",
    "        #### Epoch Logging ####        \n",
    "        train_mse, train_acc = compute_mse_and_acc(model, X_train, y_train)\n",
    "        valid_mse, valid_acc = compute_mse_and_acc(model, X_valid, y_valid)\n",
    "        train_acc, valid_acc = train_acc*100, valid_acc*100\n",
    "        epoch_train_acc.append(train_acc)\n",
    "        epoch_valid_acc.append(valid_acc)\n",
    "        epoch_loss.append(train_mse)\n",
    "        print(f'Epoch: {e+1:03d}/{num_epochs:03d} '\n",
    "              f'| Train MSE: {train_mse:.2f} '\n",
    "              f'| Train Acc: {train_acc:.2f}% '\n",
    "              f'| Valid Acc: {valid_acc:.2f}%')\n",
    "\n",
    "    return epoch_loss, epoch_train_acc, epoch_valid_acc"
   ]
  },
  {
   "cell_type": "code",
   "execution_count": 17,
   "metadata": {},
   "outputs": [
    {
     "name": "stdout",
     "output_type": "stream",
     "text": [
      "Epoch: 001/020 | Train MSE: 0.03 | Train Acc: 86.15% | Valid Acc: 86.16%\n",
      "Epoch: 002/020 | Train MSE: 0.02 | Train Acc: 88.90% | Valid Acc: 88.63%\n",
      "Epoch: 003/020 | Train MSE: 0.02 | Train Acc: 89.91% | Valid Acc: 89.53%\n",
      "Epoch: 004/020 | Train MSE: 0.02 | Train Acc: 90.66% | Valid Acc: 90.24%\n",
      "Epoch: 005/020 | Train MSE: 0.02 | Train Acc: 91.10% | Valid Acc: 90.67%\n",
      "Epoch: 006/020 | Train MSE: 0.02 | Train Acc: 91.57% | Valid Acc: 90.97%\n",
      "Epoch: 007/020 | Train MSE: 0.02 | Train Acc: 91.96% | Valid Acc: 91.24%\n",
      "Epoch: 008/020 | Train MSE: 0.02 | Train Acc: 92.20% | Valid Acc: 91.55%\n",
      "Epoch: 009/020 | Train MSE: 0.01 | Train Acc: 92.52% | Valid Acc: 92.03%\n",
      "Epoch: 010/020 | Train MSE: 0.01 | Train Acc: 92.72% | Valid Acc: 92.07%\n",
      "Epoch: 011/020 | Train MSE: 0.01 | Train Acc: 92.99% | Valid Acc: 92.43%\n",
      "Epoch: 012/020 | Train MSE: 0.01 | Train Acc: 93.25% | Valid Acc: 92.61%\n",
      "Epoch: 013/020 | Train MSE: 0.01 | Train Acc: 93.54% | Valid Acc: 92.93%\n",
      "Epoch: 014/020 | Train MSE: 0.01 | Train Acc: 93.66% | Valid Acc: 92.88%\n",
      "Epoch: 015/020 | Train MSE: 0.01 | Train Acc: 93.81% | Valid Acc: 93.12%\n",
      "Epoch: 016/020 | Train MSE: 0.01 | Train Acc: 94.02% | Valid Acc: 93.15%\n",
      "Epoch: 017/020 | Train MSE: 0.01 | Train Acc: 94.21% | Valid Acc: 93.35%\n",
      "Epoch: 018/020 | Train MSE: 0.01 | Train Acc: 94.45% | Valid Acc: 93.61%\n",
      "Epoch: 019/020 | Train MSE: 0.01 | Train Acc: 94.50% | Valid Acc: 93.62%\n",
      "Epoch: 020/020 | Train MSE: 0.01 | Train Acc: 94.74% | Valid Acc: 93.84%\n"
     ]
    }
   ],
   "source": [
    "np.random.seed(random_seed) # for the training set shuffling\n",
    "\n",
    "epoch_loss, epoch_train_acc, epoch_valid_acc = train(\n",
    "    model, X_train, y_train, X_valid, y_valid,\n",
    "    num_epochs=num_epochs, learning_rate=0.1)"
   ]
  },
  {
   "cell_type": "markdown",
   "metadata": {},
   "source": [
    "## Implementing a 2-layer Model"
   ]
  },
  {
   "cell_type": "code",
   "execution_count": 18,
   "metadata": {},
   "outputs": [],
   "source": [
    "##########################\n",
    "### MODEL\n",
    "##########################\n",
    "\n",
    "class NeuralNetMLP2:\n",
    "\n",
    "    def __init__(self, num_features, num_hidden1, num_hidden2, num_classes, random_seed=random_seed):\n",
    "        super().__init__()\n",
    "\n",
    "        self.num_classes = num_classes\n",
    "\n",
    "        rng = np.random.RandomState(random_seed)\n",
    "\n",
    "        # hidden 1\n",
    "        self.weight_h1 = rng.normal(\n",
    "            loc=0.0, scale=0.1, size=(num_hidden1, num_features))\n",
    "        self.bias_h1 = np.zeros(num_hidden1)\n",
    "\n",
    "        # hidden 2\n",
    "        self.weight_h2 = rng.normal(\n",
    "            loc=0.0, scale=0.1, size=(num_hidden2, num_hidden1))\n",
    "        self.bias_h2 = np.zeros(num_hidden2)\n",
    "\n",
    "        # output\n",
    "        self.weight_out = rng.normal(\n",
    "            loc=0.0, scale=0.1, size=(num_classes, num_hidden2))\n",
    "        self.bias_out = np.zeros(num_classes)\n",
    "        \n",
    "    def forward(self, x):\n",
    "        # Hidden layer 1\n",
    "        # input dim: [n_examples, n_features] dot [n_hidden1, n_features].T\n",
    "        # output dim: [n_examples, n_hidden1]\n",
    "        z_h1 = np.dot(x, self.weight_h1.T) + self.bias_h1\n",
    "        a_h1 = sigmoid(z_h1)\n",
    "\n",
    "        # Hidden layer 2\n",
    "        # input dim: [n_examples, n_hidden1] dot [n_hidden2, n_hidden1].T\n",
    "        # output dim: [n_examples, n_hidden2]\n",
    "        z_h2 = np.dot(a_h1, self.weight_h2.T) + self.bias_h2\n",
    "        a_h2 = sigmoid(z_h2)\n",
    "\n",
    "        # Output layer\n",
    "        # input dim: [n_examples, n_hidden2] dot [n_classes, n_hidden2].T\n",
    "        # output dim: [n_examples, n_classes]\n",
    "        z_out = np.dot(a_h2, self.weight_out.T) + self.bias_out\n",
    "        a_out = sigmoid(z_out)\n",
    "        return a_h1, a_h2, a_out\n",
    "\n",
    "    def backward(self, x, a_h1, a_h2, a_out, y):  \n",
    "    \n",
    "        #########################\n",
    "        ### Output layer weights\n",
    "        #########################\n",
    "\n",
    "        # onehot encoding\n",
    "        y_onehot = int_to_onehot(y, self.num_classes)\n",
    "\n",
    "        # Part 1: dLoss/dOutWeights\n",
    "        ## = dLoss/dOutAct * dOutAct/dOutNet * dOutNet/dOutWeight\n",
    "        ## where DeltaOut = dLoss/dOutAct * dOutAct/dOutNet\n",
    "        ## for convenient re-use\n",
    "\n",
    "        # input/output dim: [n_examples, n_classes]\n",
    "        d_loss__d_a_out = 2. * (a_out - y_onehot) / y.shape[0]\n",
    "        # input/output dim: [n_examples, n_classes]\n",
    "        d_a_out__d_z_out = a_out * (1. - a_out)  # sigmoid derivative\n",
    "        # output dim: [n_examples, n_classes]\n",
    "        delta_out = d_loss__d_a_out * d_a_out__d_z_out  # \"delta (rule) placeholder\"\n",
    "\n",
    "        # gradient for output weights\n",
    "        # [n_examples, n_hidden]\n",
    "        d_z_out__dw_out = a_h2\n",
    "\n",
    "        # input dim: [n_classes, n_examples] dot [n_examples, n_hidden]\n",
    "        # output dim: [n_classes, n_hidden]\n",
    "        d_loss__dw_out = np.dot(delta_out.T, d_z_out__dw_out)\n",
    "        d_loss__db_out = np.sum(delta_out, axis=0)\n",
    "\n",
    "        #################################        \n",
    "        # Part 2: dLoss/dHiddenWeights\n",
    "        ## = DeltaOut * dOutNet/dHiddenAct * dHiddenAct/dHiddenNet * dHiddenNet/dWeight\n",
    "\n",
    "        # Hidden layer 1 weights\n",
    "        # [n_classes, n_hidden2]\n",
    "        d_z_out__a_h2 = self.weight_out\n",
    "        # output dim: [n_examples, n_hidden2]\n",
    "        d_loss__a_h2 = np.dot(delta_out, d_z_out__a_h2)\n",
    "        # [n_examples, n_hidden2]\n",
    "        d_a_h2__d_z_h2 = a_h2 * (1. - a_h2)  # sigmoid derivative\n",
    "        # [n_examples, n_hidden1]\n",
    "        d_z_h2__d_w_h2 = a_h1\n",
    "\n",
    "        # output dim: [n_hidden2, n_hidden1]\n",
    "        d_loss__d_w_h2 = np.dot((d_loss__a_h2 * d_a_h2__d_z_h2).T, d_z_h2__d_w_h2)\n",
    "        d_loss__d_b_h2 = np.sum((d_loss__a_h2 * d_a_h2__d_z_h2), axis=0)\n",
    "\n",
    "        # Hidden layer 1 weights\n",
    "        d_z_h2__a_h1 = self.weight_h2\n",
    "        d_loss__a_h1 = np.dot(d_loss__a_h2 * d_a_h2__d_z_h2, d_z_h2__a_h1)\n",
    "        d_a_h1__d_z_h1 = a_h1 * (1. - a_h1)\n",
    "        d_z_h1__d_w_h1 = x\n",
    "        d_loss__d_w_h1 = np.dot((d_loss__a_h1 * d_a_h1__d_z_h1).T, d_z_h1__d_w_h1)\n",
    "        d_loss__d_b_h1 = np.sum((d_loss__a_h1 * d_a_h1__d_z_h1), axis=0)\n",
    "\n",
    "        return (d_loss__dw_out, d_loss__db_out,\n",
    "                d_loss__d_w_h2, d_loss__d_b_h2,\n",
    "                d_loss__d_w_h1, d_loss__d_b_h1)"
   ]
  },
  {
   "cell_type": "code",
   "execution_count": 19,
   "metadata": {},
   "outputs": [],
   "source": [
    "model2 = NeuralNetMLP2(num_features=28*28,\n",
    "                     num_hidden1=num_hidden,\n",
    "                     num_hidden2=num_hidden,\n",
    "                     num_classes=10)"
   ]
  },
  {
   "cell_type": "markdown",
   "metadata": {},
   "source": [
    "## Coding the neural network training loop"
   ]
  },
  {
   "cell_type": "markdown",
   "metadata": {},
   "source": [
    "Defining a function to compute the loss and accuracy"
   ]
  },
  {
   "cell_type": "code",
   "execution_count": 20,
   "metadata": {},
   "outputs": [],
   "source": [
    "def compute_mse_and_acc2(nnet, X, y, num_labels=10, minibatch_size=100):\n",
    "    mse, correct_pred, num_examples = 0., 0, 0\n",
    "    minibatch_gen = minibatch_generator(X, y, minibatch_size)\n",
    "        \n",
    "    for i, (features, targets) in enumerate(minibatch_gen):\n",
    "\n",
    "        _, _, probas = nnet.forward(features)\n",
    "        predicted_labels = np.argmax(probas, axis=1)\n",
    "        \n",
    "        onehot_targets = int_to_onehot(targets, num_labels=num_labels)\n",
    "        loss = np.mean((onehot_targets - probas)**2)\n",
    "        correct_pred += (predicted_labels == targets).sum()\n",
    "        \n",
    "        num_examples += targets.shape[0]\n",
    "        mse += loss\n",
    "\n",
    "    mse = mse/i\n",
    "    acc = correct_pred/num_examples\n",
    "    return mse, acc"
   ]
  },
  {
   "cell_type": "code",
   "execution_count": 21,
   "metadata": {},
   "outputs": [],
   "source": [
    "def train2(model, X_train, y_train, X_valid, y_valid, num_epochs,\n",
    "          learning_rate=0.1):\n",
    "    \n",
    "    epoch_loss = []\n",
    "    epoch_train_acc = []\n",
    "    epoch_valid_acc = []\n",
    "    \n",
    "    for e in range(num_epochs):\n",
    "\n",
    "        # iterate over minibatches\n",
    "        minibatch_gen = minibatch_generator(\n",
    "            X_train, y_train, minibatch_size)\n",
    "\n",
    "        for X_train_mini, y_train_mini in minibatch_gen:\n",
    "            \n",
    "            #### Compute outputs ####\n",
    "            a_h1, a_h2, a_out = model.forward(X_train_mini)\n",
    "\n",
    "            #### Compute gradients ####\n",
    "            d_loss__d_w_out, d_loss__d_b_out, d_loss__d_w_h2, d_loss__d_b_h2, d_loss__d_w_h1, d_loss__d_b_h1 = model.backward(\n",
    "                X_train_mini, a_h1, a_h2, a_out,\n",
    "                y_train_mini)\n",
    "\n",
    "            #### Update weights ####\n",
    "            model.weight_h2 -= learning_rate * d_loss__d_w_h2\n",
    "            model.bias_h2 -= learning_rate * d_loss__d_b_h2\n",
    "            model.weight_h1 -= learning_rate * d_loss__d_w_h1\n",
    "            model.bias_h1 -= learning_rate * d_loss__d_b_h1\n",
    "            model.weight_out -= learning_rate * d_loss__d_w_out\n",
    "            model.bias_out -= learning_rate * d_loss__d_b_out\n",
    "        \n",
    "        #### Epoch Logging ####        \n",
    "        train_mse, train_acc = compute_mse_and_acc2(model, X_train, y_train)\n",
    "        valid_mse, valid_acc = compute_mse_and_acc2(model, X_valid, y_valid)\n",
    "        train_acc, valid_acc = train_acc*100, valid_acc*100\n",
    "        epoch_train_acc.append(train_acc)\n",
    "        epoch_valid_acc.append(valid_acc)\n",
    "        epoch_loss.append(train_mse)\n",
    "        print(f'Epoch: {e+1:03d}/{num_epochs:03d} '\n",
    "              f'| Train MSE: {train_mse:.2f} '\n",
    "              f'| Train Acc: {train_acc:.2f}% '\n",
    "              f'| Valid Acc: {valid_acc:.2f}%')\n",
    "\n",
    "    return epoch_loss, epoch_train_acc, epoch_valid_acc"
   ]
  },
  {
   "cell_type": "code",
   "execution_count": 22,
   "metadata": {},
   "outputs": [
    {
     "name": "stdout",
     "output_type": "stream",
     "text": [
      "Epoch: 001/020 | Train MSE: 0.04 | Train Acc: 81.62% | Valid Acc: 81.89%\n",
      "Epoch: 002/020 | Train MSE: 0.03 | Train Acc: 87.19% | Valid Acc: 87.05%\n",
      "Epoch: 003/020 | Train MSE: 0.02 | Train Acc: 88.57% | Valid Acc: 88.53%\n",
      "Epoch: 004/020 | Train MSE: 0.02 | Train Acc: 89.59% | Valid Acc: 89.43%\n",
      "Epoch: 005/020 | Train MSE: 0.02 | Train Acc: 90.34% | Valid Acc: 90.11%\n",
      "Epoch: 006/020 | Train MSE: 0.02 | Train Acc: 90.74% | Valid Acc: 90.40%\n",
      "Epoch: 007/020 | Train MSE: 0.02 | Train Acc: 91.27% | Valid Acc: 90.82%\n",
      "Epoch: 008/020 | Train MSE: 0.02 | Train Acc: 91.55% | Valid Acc: 90.95%\n",
      "Epoch: 009/020 | Train MSE: 0.02 | Train Acc: 91.86% | Valid Acc: 91.38%\n",
      "Epoch: 010/020 | Train MSE: 0.01 | Train Acc: 92.06% | Valid Acc: 91.54%\n",
      "Epoch: 011/020 | Train MSE: 0.01 | Train Acc: 92.45% | Valid Acc: 91.85%\n",
      "Epoch: 012/020 | Train MSE: 0.01 | Train Acc: 92.75% | Valid Acc: 92.20%\n",
      "Epoch: 013/020 | Train MSE: 0.01 | Train Acc: 93.01% | Valid Acc: 92.32%\n",
      "Epoch: 014/020 | Train MSE: 0.01 | Train Acc: 93.12% | Valid Acc: 92.36%\n",
      "Epoch: 015/020 | Train MSE: 0.01 | Train Acc: 93.25% | Valid Acc: 92.57%\n",
      "Epoch: 016/020 | Train MSE: 0.01 | Train Acc: 93.60% | Valid Acc: 92.72%\n",
      "Epoch: 017/020 | Train MSE: 0.01 | Train Acc: 93.79% | Valid Acc: 92.90%\n",
      "Epoch: 018/020 | Train MSE: 0.01 | Train Acc: 94.02% | Valid Acc: 93.09%\n",
      "Epoch: 019/020 | Train MSE: 0.01 | Train Acc: 94.05% | Valid Acc: 93.04%\n",
      "Epoch: 020/020 | Train MSE: 0.01 | Train Acc: 94.38% | Valid Acc: 93.40%\n"
     ]
    }
   ],
   "source": [
    "np.random.seed(random_seed) # for the training set shuffling\n",
    "\n",
    "epoch_loss2, epoch_train_acc2, epoch_valid_acc2 = train2(\n",
    "    model2, X_train, y_train, X_valid, y_valid,\n",
    "    num_epochs=num_epochs, learning_rate=0.1)"
   ]
  },
  {
   "cell_type": "markdown",
   "metadata": {},
   "source": [
    "## Evaluating the neural network performance"
   ]
  },
  {
   "cell_type": "code",
   "execution_count": 23,
   "metadata": {},
   "outputs": [
    {
     "data": {
      "image/png": "[encoded data removed]",
      "text/plain": [
       "<Figure size 640x480 with 1 Axes>"
      ]
     },
     "metadata": {},
     "output_type": "display_data"
    }
   ],
   "source": [
    "import matplotlib.pyplot as plt\n",
    "plt.plot(range(len(epoch_loss)), epoch_loss, label=\"1 layer\")\n",
    "plt.plot(range(len(epoch_loss2)), epoch_loss2, label=\"2 layers\")\n",
    "plt.ylabel('Mean squared error')\n",
    "plt.xlabel('Epoch')\n",
    "plt.legend()\n",
    "#plt.savefig('figures/11_07.png', dpi=300)\n",
    "plt.show()"
   ]
  },
  {
   "cell_type": "code",
   "execution_count": 24,
   "metadata": {},
   "outputs": [
    {
     "data": {
      "image/png": "[encoded data removed]",
      "text/plain": [
       "<Figure size 640x480 with 1 Axes>"
      ]
     },
     "metadata": {},
     "output_type": "display_data"
    }
   ],
   "source": [
    "plt.plot(range(len(epoch_train_acc)), epoch_train_acc,\n",
    "         label='Training 1 layer')\n",
    "plt.plot(range(len(epoch_valid_acc)), epoch_valid_acc,\n",
    "         label='Validation 1 layer')\n",
    "plt.plot(range(len(epoch_train_acc2)), epoch_train_acc2,\n",
    "         label='Training 2 layers')\n",
    "plt.plot(range(len(epoch_valid_acc2)), epoch_valid_acc2,\n",
    "         label='Validation 2 layers')\n",
    "plt.ylabel('Accuracy')\n",
    "plt.xlabel('Epochs')\n",
    "plt.legend(loc='lower right')\n",
    "\n",
    "plt.show()"
   ]
  },
  {
   "cell_type": "code",
   "execution_count": 25,
   "metadata": {},
   "outputs": [
    {
     "name": "stdout",
     "output_type": "stream",
     "text": [
      "1 layer Test accuracy: 93.78%\n",
      "2 layers Test accuracy: 93.39%\n"
     ]
    }
   ],
   "source": [
    "test_mse, test_acc = compute_mse_and_acc(model, X_test, y_test)\n",
    "print(f'1 layer Test accuracy: {test_acc*100:.2f}%')\n",
    "\n",
    "test_mse, test_acc = compute_mse_and_acc2(model2, X_test, y_test)\n",
    "print(f'2 layers Test accuracy: {test_acc*100:.2f}%')"
   ]
  },
  {
   "cell_type": "markdown",
   "metadata": {},
   "source": [
    "## Keras 2 layer model"
   ]
  },
  {
   "cell_type": "code",
   "execution_count": 26,
   "metadata": {},
   "outputs": [],
   "source": [
    "from tensorflow import keras\n",
    "\n",
    "num_classes = 10\n",
    "\n",
    "y_valid = keras.utils.to_categorical(y_valid, num_classes)\n",
    "y_test = keras.utils.to_categorical(y_test, num_classes)\n",
    "y_train = keras.utils.to_categorical(y_train, num_classes)"
   ]
  },
  {
   "cell_type": "code",
   "execution_count": 27,
   "metadata": {},
   "outputs": [
    {
     "name": "stdout",
     "output_type": "stream",
     "text": [
      "Epoch 1/20\n"
     ]
    },
    {
     "name": "stderr",
     "output_type": "stream",
     "text": [
      "2023-07-19 22:01:50.416688: W tensorflow/core/framework/cpu_allocator_impl.cc:82] Allocation of 122931200 exceeds 10% of free system memory.\n"
     ]
    },
    {
     "name": "stdout",
     "output_type": "stream",
     "text": [
      "392/392 [==============================] - 3s 5ms/step - loss: 0.0901 - accuracy: 0.1574 - val_loss: 0.0892 - val_accuracy: 0.2357\n",
      "Epoch 2/20\n",
      "392/392 [==============================] - 2s 5ms/step - loss: 0.0888 - accuracy: 0.2742 - val_loss: 0.0884 - val_accuracy: 0.3510\n",
      "Epoch 3/20\n",
      "392/392 [==============================] - 2s 5ms/step - loss: 0.0879 - accuracy: 0.3403 - val_loss: 0.0874 - val_accuracy: 0.3381\n",
      "Epoch 4/20\n",
      "392/392 [==============================] - 2s 5ms/step - loss: 0.0868 - accuracy: 0.3555 - val_loss: 0.0862 - val_accuracy: 0.2774\n",
      "Epoch 5/20\n",
      "392/392 [==============================] - 2s 5ms/step - loss: 0.0854 - accuracy: 0.3609 - val_loss: 0.0846 - val_accuracy: 0.4217\n",
      "Epoch 6/20\n",
      "392/392 [==============================] - 2s 5ms/step - loss: 0.0836 - accuracy: 0.3851 - val_loss: 0.0824 - val_accuracy: 0.3906\n",
      "Epoch 7/20\n",
      "392/392 [==============================] - 2s 5ms/step - loss: 0.0812 - accuracy: 0.4070 - val_loss: 0.0797 - val_accuracy: 0.4066\n",
      "Epoch 8/20\n",
      "392/392 [==============================] - 2s 4ms/step - loss: 0.0781 - accuracy: 0.4465 - val_loss: 0.0764 - val_accuracy: 0.4796\n",
      "Epoch 9/20\n",
      "392/392 [==============================] - 2s 5ms/step - loss: 0.0745 - accuracy: 0.4994 - val_loss: 0.0725 - val_accuracy: 0.5081\n",
      "Epoch 10/20\n",
      "392/392 [==============================] - 2s 4ms/step - loss: 0.0705 - accuracy: 0.5398 - val_loss: 0.0684 - val_accuracy: 0.5688\n",
      "Epoch 11/20\n",
      "392/392 [==============================] - 2s 5ms/step - loss: 0.0662 - accuracy: 0.5799 - val_loss: 0.0640 - val_accuracy: 0.6054\n",
      "Epoch 12/20\n",
      "392/392 [==============================] - 2s 5ms/step - loss: 0.0618 - accuracy: 0.6126 - val_loss: 0.0595 - val_accuracy: 0.6311\n",
      "Epoch 13/20\n",
      "392/392 [==============================] - 2s 5ms/step - loss: 0.0574 - accuracy: 0.6431 - val_loss: 0.0552 - val_accuracy: 0.6614\n",
      "Epoch 14/20\n",
      "392/392 [==============================] - 2s 5ms/step - loss: 0.0532 - accuracy: 0.6711 - val_loss: 0.0512 - val_accuracy: 0.7043\n",
      "Epoch 15/20\n",
      "392/392 [==============================] - 2s 5ms/step - loss: 0.0493 - accuracy: 0.7020 - val_loss: 0.0475 - val_accuracy: 0.6962\n",
      "Epoch 16/20\n",
      "392/392 [==============================] - 2s 5ms/step - loss: 0.0458 - accuracy: 0.7280 - val_loss: 0.0442 - val_accuracy: 0.7394\n",
      "Epoch 17/20\n",
      "392/392 [==============================] - 2s 5ms/step - loss: 0.0426 - accuracy: 0.7546 - val_loss: 0.0412 - val_accuracy: 0.7709\n",
      "Epoch 18/20\n",
      "392/392 [==============================] - 2s 5ms/step - loss: 0.0398 - accuracy: 0.7809 - val_loss: 0.0385 - val_accuracy: 0.7936\n",
      "Epoch 19/20\n",
      "392/392 [==============================] - 2s 5ms/step - loss: 0.0372 - accuracy: 0.8026 - val_loss: 0.0361 - val_accuracy: 0.8160\n",
      "Epoch 20/20\n",
      "392/392 [==============================] - 2s 5ms/step - loss: 0.0349 - accuracy: 0.8204 - val_loss: 0.0339 - val_accuracy: 0.8321\n",
      "Model: \"sequential\"\n",
      "_________________________________________________________________\n",
      " Layer (type)                Output Shape              Param #   \n",
      "=================================================================\n",
      " dense (Dense)               (None, 500)               392500    \n",
      "                                                                 \n",
      " dense_1 (Dense)             (None, 500)               250500    \n",
      "                                                                 \n",
      " dense_2 (Dense)             (None, 10)                5010      \n",
      "                                                                 \n",
      "=================================================================\n",
      "Total params: 648,010\n",
      "Trainable params: 648,010\n",
      "Non-trainable params: 0\n",
      "_________________________________________________________________\n",
      "657/657 [==============================] - 1s 1ms/step - loss: 0.0340 - accuracy: 0.8288\n",
      "Test Loss: 0.03395375236868858\n",
      "Test Accuracy: 0.8288094997406006\n"
     ]
    }
   ],
   "source": [
    "import tensorflow as tf\n",
    "model_keras = keras.Sequential([\n",
    "    keras.layers.Dense(num_hidden, activation='sigmoid', input_shape=(28*28,)),\n",
    "    keras.layers.Dense(num_hidden, activation='sigmoid'),\n",
    "    keras.layers.Dense(num_classes, activation='softmax')\n",
    "])\n",
    "\n",
    "optimizer = keras.optimizers.SGD(learning_rate=0.1)\n",
    "\n",
    "# Compile the model\n",
    "model_keras.compile(optimizer, loss='mse', metrics=['accuracy'])\n",
    "\n",
    "# Train the model\n",
    "model_keras.fit(X_train, y_train, minibatch_size, num_epochs, validation_data=(X_valid, y_valid))\n",
    "\n",
    "model_keras.summary()\n",
    "\n",
    "# Evaluate the model on the test set\n",
    "test_loss, test_accuracy = model_keras.evaluate(X_test, y_test)\n",
    "print(\"Test Loss:\", test_loss)\n",
    "print(\"Test Accuracy:\", test_accuracy)"
   ]
  },
  {
   "cell_type": "markdown",
   "metadata": {},
   "source": [
    "## Resoult comparison original 1 layer, my 2 layers and outof the box keras 2 layers "
   ]
  },
  {
   "cell_type": "code",
   "execution_count": 28,
   "metadata": {},
   "outputs": [
    {
     "name": "stdout",
     "output_type": "stream",
     "text": [
      "657/657 [==============================] - 1s 1ms/step\n",
      "Vanila (1 layer) AUC score: 0.9920\n",
      "2 layer AUC score: 0.9916\n",
      "Keras 2 layers AUC score: 0.9790\n"
     ]
    }
   ],
   "source": [
    "# Calculate AUC on the test set\n",
    "from sklearn.metrics import roc_auc_score\n",
    "\n",
    "_, _, probas2 = model2.forward(X_test)\n",
    "auc_score_2 = roc_auc_score(y_test, probas2, average='macro', multi_class='ovr')\n",
    "\n",
    "_, probas1 = model.forward(X_test)\n",
    "auc_score_1 = roc_auc_score(y_test, probas1, average='macro', multi_class='ovr')\n",
    "\n",
    "y_pred_test = model_keras.predict(X_test)\n",
    "auc_score_keras = roc_auc_score(y_test, y_pred_test, average='macro', multi_class='ovr')\n",
    "\n",
    "print(f'Vanila (1 layer) AUC score: {auc_score_1:.4f}')\n",
    "print(f'2 layer AUC score: {auc_score_2:.4f}')\n",
    "print(f'Keras 2 layers AUC score: {auc_score_keras:.4f}')"
   ]
  }
 ],
 "metadata": {
  "anaconda-cloud": {},
  "kernelspec": {
   "display_name": "pyml-book",
   "language": "python",
   "name": "pyml-book"
  },
  "language_info": {
   "codemirror_mode": {
    "name": "ipython",
    "version": 3
   },
   "file_extension": ".py",
   "mimetype": "text/x-python",
   "name": "python",
   "nbconvert_exporter": "python",
   "pygments_lexer": "ipython3",
   "version": "3.8.10"
  }
 },
 "nbformat": 4,
 "nbformat_minor": 4
}
